{
 "cells": [
  {
   "cell_type": "code",
   "execution_count": null,
   "metadata": {},
   "outputs": [],
   "source": [
    "!pip install --upgrade \"watson-developer-cloud>=2.0.1\""
   ]
  },
  {
   "cell_type": "code",
   "execution_count": null,
   "metadata": {},
   "outputs": [],
   "source": [
    "from watson_developer_cloud import SpeechToTextV1\n",
    "\n",
    "# Change the STT\n",
    "speech_to_text = SpeechToTextV1(\n",
    "    username='{Your_STT_Service_Username}',\n",
    "    password='{Your_STT_Service_Password}',\n",
    "    url='{Your_STT_Service_URL}'\n",
    ")"
   ]
  },
  {
   "cell_type": "code",
   "execution_count": null,
   "metadata": {},
   "outputs": [],
   "source": [
    "import json\n",
    "speech_model = speech_to_text.get_model('en-US_NarrowbandModel').get_result()\n",
    "print(json.dumps(speech_model, indent=2))"
   ]
  },
  {
   "cell_type": "code",
   "execution_count": null,
   "metadata": {},
   "outputs": [],
   "source": [
    "from os.path import join, dirname\n",
    "\n",
    "files = ['{Your_Audio_File.wav}']\n",
    "for file in files:\n",
    "    with open(join(dirname('.'), './.', file),\n",
    "                   'rb') as audio_file:\n",
    "        speech_recognition_results = speech_to_text.recognize(\n",
    "            audio=audio_file,\n",
    "            content_type='audio/wav', #change this if it is not a .wav file\n",
    "            timestamps=True,\n",
    "            word_alternatives_threshold=0.9,\n",
    "            keywords=['IoT', 'network', 'sensors', 'internet', 'devices'], #change this to your keywords\n",
    "            keywords_threshold=0.5).get_result()\n",
    "    print(json.dumps(speech_recognition_results, indent=2))"
   ]
  },
  {
   "cell_type": "code",
   "execution_count": null,
   "metadata": {},
   "outputs": [],
   "source": [
    "# Create a custom Language model\n",
    "language_model = speech_to_text.create_language_model(\n",
    "    'First example language model',\n",
    "    'en-US_NarrowbandModel',\n",
    "    description='First custom language model example').get_result()\n",
    "print(json.dumps(language_model, indent=2))\n",
    "\n",
    "speech_to_text.delete_language_model(language_model['customization_id'])"
   ]
  },
  {
   "cell_type": "code",
   "execution_count": null,
   "metadata": {},
   "outputs": [],
   "source": [
    "# print your custom language model's ID\n",
    "language_models = speech_to_text.list_language_models().get_result()\n",
    "print(json.dumps(language_models, indent=2))"
   ]
  },
  {
   "cell_type": "code",
   "execution_count": null,
   "metadata": {},
   "outputs": [],
   "source": [
    "custom_lang_narrowband_model_id = '{your_custom_lang_id}'"
   ]
  },
  {
   "cell_type": "code",
   "execution_count": null,
   "metadata": {},
   "outputs": [],
   "source": [
    "speech_to_text.upgrade_language_model(custom_lang_narrowband_model_id)"
   ]
  },
  {
   "cell_type": "code",
   "execution_count": null,
   "metadata": {},
   "outputs": [],
   "source": [
    "with open(join(dirname('.'), './.', 'corpora.txt'), #modify corpora.txt to your file name\n",
    "               'rb') as corpus_file:\n",
    "    speech_to_text.add_corpus(\n",
    "        custom_lang_narrowband_model_id,\n",
    "        'corpus1', # you can name it however you want \n",
    "        corpus_file)"
   ]
  },
  {
   "cell_type": "code",
   "execution_count": null,
   "metadata": {},
   "outputs": [],
   "source": [
    "corpora = speech_to_text.list_corpora(custom_lang_narrowband_model_id).get_result()\n",
    "print(json.dumps(corpora, indent=2))"
   ]
  },
  {
   "cell_type": "code",
   "execution_count": null,
   "metadata": {},
   "outputs": [],
   "source": [
    "words = speech_to_text.list_words(custom_lang_narrowband_model_id).get_result()\n",
    "print(json.dumps(words, indent=2))"
   ]
  },
  {
   "cell_type": "code",
   "execution_count": null,
   "metadata": {},
   "outputs": [],
   "source": [
    "from watson_developer_cloud.speech_to_text_v1 import CustomWord\n",
    "\n",
    "# just an examle demonstrating the creation of a custom word\n",
    "ibmdotxt = CustomWord (\n",
    "    'ibm.txt',\n",
    "    ['IBM dot text'])\n",
    "\n",
    "speech_to_text.add_words(\n",
    "    custom_lang_narrowband_model_id,\n",
    "    [ibmdotxt])"
   ]
  },
  {
   "cell_type": "code",
   "execution_count": null,
   "metadata": {},
   "outputs": [],
   "source": [
    "# Training takes up to a minute\n",
    "speech_to_text.train_language_model(custom_lang_narrowband_model_id,'all')"
   ]
  },
  {
   "cell_type": "code",
   "execution_count": null,
   "metadata": {},
   "outputs": [],
   "source": [
    "# You can check the status of the language model - wait until it is 'available'\n",
    "import time\n",
    "\n",
    "language_models = speech_to_text.list_language_models().get_result()\n",
    "models = language_models[\"customizations\"]\n",
    "\n",
    "statusNotAvailable = True\n",
    "while statusNotAvailable:    \n",
    "    for model in models:\n",
    "        if model['customization_id'] == custom_lang_narrowband_model_id: \n",
    "            if model['status'] == 'available':\n",
    "                statusNotAvailable = False\n",
    "                break\n",
    "            else:\n",
    "                time.sleep(5)\n",
    "            print(model['status'])"
   ]
  },
  {
   "cell_type": "code",
   "execution_count": null,
   "metadata": {},
   "outputs": [],
   "source": [
    "acoustic_models = speech_to_text.list_acoustic_models('en-US').get_result()\n",
    "print(json.dumps(acoustic_models, indent=2))"
   ]
  },
  {
   "cell_type": "code",
   "execution_count": null,
   "metadata": {},
   "outputs": [],
   "source": [
    "custom_acoustic_narrowband_model_id = '{Your_Acoustic_Model_ID}'\n",
    "audio_resources = speech_to_text.list_audio(custom_acoustic_narrowband_model_id).get_result()\n",
    "print(json.dumps(audio_resources, indent=2))"
   ]
  },
  {
   "cell_type": "code",
   "execution_count": null,
   "metadata": {},
   "outputs": [],
   "source": [
    "with open(join(dirname('.'), '.', '{YourTrainingAudioFile}'),\n",
    "               'rb') as audio_file:\n",
    "    speech_to_text.add_audio(\n",
    "        custom_acoustic_narrowband_model_id,\n",
    "        'audio1', #you can set this to whatever value\n",
    "        audio_file,\n",
    "        'audio/wav' # change this as per file type\n",
    "    )"
   ]
  },
  {
   "cell_type": "code",
   "execution_count": null,
   "metadata": {},
   "outputs": [],
   "source": [
    "speech_to_text.upgrade_acoustic_model(custom_acoustic_narrowband_model_id)"
   ]
  },
  {
   "cell_type": "code",
   "execution_count": null,
   "metadata": {},
   "outputs": [],
   "source": [
    "speech_to_text.train_acoustic_model(custom_acoustic_narrowband_model_id,custom_lang_narrowband_model_id)"
   ]
  },
  {
   "cell_type": "code",
   "execution_count": null,
   "metadata": {},
   "outputs": [],
   "source": [
    "# Get status of the language model - wait until it is 'available'\n",
    "acoustic_models = speech_to_text.list_acoustic_models('en-US').get_result()\n",
    "models = acoustic_models[\"customizations\"]\n",
    "\n",
    "statusNotAvailable = True\n",
    "while statusNotAvailable:    \n",
    "    #print(json.dumps(language_models, indent=2))\n",
    "    for model in models:\n",
    "        if model['customization_id'] == custom_acoustic_narrowband_model_id: \n",
    "            if model['status'] == 'available':\n",
    "                print(model['status'])\n",
    "                statusNotAvailable = False\n",
    "                break\n",
    "            else:\n",
    "                time.sleep(15)\n",
    "                print(model['status'])"
   ]
  },
  {
   "cell_type": "code",
   "execution_count": null,
   "metadata": {},
   "outputs": [],
   "source": [
    "files = ['{Your_Audio_File}']\n",
    "for file in files:\n",
    "    with open(join(dirname('.'), './.', file),\n",
    "                   'rb') as audio_file:\n",
    "        speech_recognition_results = speech_to_text.recognize(\n",
    "            audio=audio_file,\n",
    "            content_type='audio/wav',\n",
    "            model='en-US_NarrowbandModel',\n",
    "            customization_id=custom_lang_narrowband_model_id,\n",
    "            acoustic_customization_id=custom_acoustic_narrowband_model_id,\n",
    "            timestamps=True,\n",
    "            word_alternatives_threshold=0.9,\n",
    "            keywords=['IoT', 'network', 'sensors', 'internet', 'devices'],\n",
    "            keywords_threshold=0.5).get_result()\n",
    "    print(json.dumps(speech_recognition_results, indent=2))"
   ]
  },
  {
   "cell_type": "code",
   "execution_count": null,
   "metadata": {},
   "outputs": [],
   "source": []
  }
 ],
 "metadata": {
  "kernelspec": {
   "display_name": "Python 3",
   "language": "python",
   "name": "python3"
  },
  "language_info": {
   "codemirror_mode": {
    "name": "ipython",
    "version": 3
   },
   "file_extension": ".py",
   "mimetype": "text/x-python",
   "name": "python",
   "nbconvert_exporter": "python",
   "pygments_lexer": "ipython3",
   "version": "3.6.5"
  }
 },
 "nbformat": 4,
 "nbformat_minor": 2
}
